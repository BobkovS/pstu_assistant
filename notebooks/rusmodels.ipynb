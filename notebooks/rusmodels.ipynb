{
 "cells": [
  {
   "cell_type": "code",
   "execution_count": 53,
   "metadata": {},
   "outputs": [],
   "source": [
    "from sklearn.multiclass import OneVsRestClassifier\n",
    "from sklearn.linear_model import LogisticRegression\n",
    "from sklearn.feature_extraction.text import TfidfVectorizer\n",
    "import pandas as pd\n",
    "import json\n",
    "import operator\n",
    "import pickle\n",
    "import numpy as np\n",
    "import sys\n",
    "import os\n",
    "import random\n",
    "from yargy import Parser, rule, and_\n",
    "from yargy.predicates import gram, is_capitalized, dictionary\n",
    "sys.path.insert(0, '..')\n",
    "from common import preprocessing\n",
    "classes_map = {'DOC':0, 'ENTER':1, 'ORG':2, 'PRIV':3, 'RANG':4, 'HOST':5}\n",
    "classes_map_greet = {'QUE':0, 'GREET':1}\n",
    "idx_to_intent = {0:'DOC', 1:'ENTER', 2:'ORG', 3:'PRIV', 4:'RANG', 5:'HOST'}"
   ]
  },
  {
   "cell_type": "code",
   "execution_count": 71,
   "metadata": {},
   "outputs": [],
   "source": [
    "df = pd.read_csv('..//data//data.txt', delimiter=';', engine='python',encoding='utf8')\n",
    "gr = pd.read_csv('..//data//ru_chatter.txt', delimiter=';', engine='python',encoding='utf8')\n",
    "\n",
    "df_ = pd.DataFrame(data={'question':df['question'],'class':df['class']})[:45]\n",
    "df_['class'] = 'QUE'\n",
    "df_ = df_.append(gr)"
   ]
  },
  {
   "cell_type": "code",
   "execution_count": 72,
   "metadata": {},
   "outputs": [],
   "source": [
    "questions = np.array(df.question)\n",
    "questions = preprocessing.preprocess_list(questions)\n",
    "\n",
    "greetings = np.array(df_.question)\n",
    "greetings = preprocessing.preprocess_list(greetings)"
   ]
  },
  {
   "cell_type": "code",
   "execution_count": 73,
   "metadata": {},
   "outputs": [
    {
     "name": "stdout",
     "output_type": "stream",
     "text": [
      "Размерность: (1343, 1859)\n"
     ]
    }
   ],
   "source": [
    "vectorizer = TfidfVectorizer(min_df=1,ngram_range=(1,1))\n",
    "X = vectorizer.fit_transform(questions)\n",
    "pickle.dump(vectorizer, open(\"..//bin//ru_vectorizer\", 'wb'))\n",
    "classes = np.array(df['class'])\n",
    "y = list(map(lambda x: classes_map[x],classes))\n",
    "print(\"Размерность:\",X.shape)"
   ]
  },
  {
   "cell_type": "code",
   "execution_count": 74,
   "metadata": {},
   "outputs": [
    {
     "name": "stdout",
     "output_type": "stream",
     "text": [
      "Размерность: (91, 349)\n"
     ]
    }
   ],
   "source": [
    "vectorizer_greet = TfidfVectorizer(min_df=1,ngram_range=(1,1))\n",
    "X_greet = vectorizer_greet.fit_transform(greetings)\n",
    "pickle.dump(vectorizer_greet, open(\"..//bin//ru_vectorizer_greet\", 'wb'))\n",
    "classes = np.array(df_['class'])\n",
    "y_greet = list(map(lambda x: classes_map_greet[x],classes))\n",
    "print(\"Размерность:\",X_greet.shape)"
   ]
  },
  {
   "cell_type": "code",
   "execution_count": 75,
   "metadata": {},
   "outputs": [],
   "source": [
    "log_reg = OneVsRestClassifier(LogisticRegression(random_state=0,C=10,solver='lbfgs',)).fit(X, y)\n",
    "pickle.dump(log_reg, open(\"..//bin//ru_log_reg\", 'wb'))\n",
    "\n",
    "log_reg_greet = OneVsRestClassifier(LogisticRegression(random_state=0,C=10,solver='lbfgs',)).fit(X_greet, y_greet)\n",
    "pickle.dump(log_reg_greet, open(\"..//bin//ru_log_reg_greet\", 'wb'))"
   ]
  },
  {
   "cell_type": "code",
   "execution_count": 59,
   "metadata": {},
   "outputs": [],
   "source": [
    "a = []\n",
    "for w in [\"стипа\",\"проблема\"]:\n",
    "    a.append(preprocessing.preprocess_word(w))"
   ]
  },
  {
   "cell_type": "code",
   "execution_count": 60,
   "metadata": {},
   "outputs": [
    {
     "data": {
      "text/plain": [
       "['стип', 'проблем']"
      ]
     },
     "execution_count": 60,
     "metadata": {},
     "output_type": "execute_result"
    }
   ],
   "source": [
    "a"
   ]
  },
  {
   "cell_type": "code",
   "execution_count": null,
   "metadata": {},
   "outputs": [],
   "source": []
  }
 ],
 "metadata": {
  "kernelspec": {
   "display_name": "Python 3",
   "language": "python",
   "name": "python3"
  },
  "language_info": {
   "codemirror_mode": {
    "name": "ipython",
    "version": 3
   },
   "file_extension": ".py",
   "mimetype": "text/x-python",
   "name": "python",
   "nbconvert_exporter": "python",
   "pygments_lexer": "ipython3",
   "version": "3.6.4"
  }
 },
 "nbformat": 4,
 "nbformat_minor": 2
}
