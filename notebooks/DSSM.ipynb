{
 "cells": [
  {
   "cell_type": "code",
   "execution_count": 1,
   "metadata": {},
   "outputs": [
    {
     "name": "stderr",
     "output_type": "stream",
     "text": [
      "/home/alex/miniconda3/lib/python3.6/importlib/_bootstrap.py:219: RuntimeWarning: numpy.dtype size changed, may indicate binary incompatibility. Expected 96, got 88\n",
      "  return f(*args, **kwds)\n",
      "/home/alex/miniconda3/lib/python3.6/importlib/_bootstrap.py:219: RuntimeWarning: numpy.dtype size changed, may indicate binary incompatibility. Expected 96, got 88\n",
      "  return f(*args, **kwds)\n",
      "/home/alex/miniconda3/lib/python3.6/site-packages/h5py/__init__.py:36: FutureWarning: Conversion of the second argument of issubdtype from `float` to `np.floating` is deprecated. In future, it will be treated as `np.float64 == np.dtype(float).type`.\n",
      "  from ._conv import register_converters as _register_converters\n",
      "Using TensorFlow backend.\n"
     ]
    }
   ],
   "source": [
    "import os\n",
    "import json\n",
    "import pickle\n",
    "from collections import Counter\n",
    "import re\n",
    "\n",
    "import numpy as np\n",
    "import pandas as pd\n",
    "\n",
    "from sklearn.model_selection import train_test_split\n",
    "from sklearn.neighbors import NearestNeighbors\n",
    "\n",
    "import tensorflow as tf\n",
    "\n",
    "import keras.backend as K\n",
    "from keras.models import Model, load_model\n",
    "from keras.layers import Input, Embedding, Dense, Lambda, LSTM\n",
    "from keras.layers.pooling import _GlobalPooling1D, GlobalAveragePooling1D\n",
    "from keras.preprocessing.text import text_to_word_sequence, Tokenizer\n",
    "from keras.preprocessing.sequence import pad_sequences\n",
    "from keras.utils import get_file\n",
    "\n",
    "import matplotlib\n",
    "import matplotlib.pyplot as plt\n",
    "import seaborn as sns\n",
    "\n",
    "from IPython.display import SVG\n",
    "from keras.utils.vis_utils import model_to_dot\n",
    "\n",
    "%matplotlib inline"
   ]
  },
  {
   "cell_type": "code",
   "execution_count": 2,
   "metadata": {},
   "outputs": [],
   "source": [
    "sns.set(style=\"whitegrid\", font_scale=1.3)\n",
    "\n",
    "matplotlib.rcParams[\"legend.framealpha\"] = 1\n",
    "matplotlib.rcParams[\"legend.frameon\"] = True\n",
    "matplotlib.rcParams[\"legend.fontsize\"] = 14\n",
    "\n",
    "matplotlib.rcParams[\"figure.figsize\"] = (10, 8)\n",
    "matplotlib.rcParams[\"font.size\"] = 14\n",
    "\n",
    "matplotlib.rcParams[\"xtick.labelsize\"] = 14\n",
    "matplotlib.rcParams[\"ytick.labelsize\"] = 14\n",
    "\n",
    "matplotlib.rcParams[\"axes.labelsize\"] = 18\n",
    "matplotlib.rcParams[\"axes.titlesize\"] = 20"
   ]
  },
  {
   "cell_type": "code",
   "execution_count": 3,
   "metadata": {},
   "outputs": [],
   "source": [
    "np.random.seed(42)"
   ]
  },
  {
   "cell_type": "code",
   "execution_count": 4,
   "metadata": {},
   "outputs": [],
   "source": [
    "questions = []\n",
    "answers = []"
   ]
  },
  {
   "cell_type": "code",
   "execution_count": 5,
   "metadata": {},
   "outputs": [],
   "source": [
    "with open(\"../data/conversations.txt\") as f:\n",
    "    content = f.readlines()\n",
    "content = [x.strip() for x in content] "
   ]
  },
  {
   "cell_type": "code",
   "execution_count": 6,
   "metadata": {},
   "outputs": [],
   "source": [
    "for i in range(len(content)-3):\n",
    "    if len(json.loads(content[i]))%2 == 0 and len(json.loads(content[i])) > 0:\n",
    "        for j in range(0,len(json.loads(content[i])),2):\n",
    "            questions.append(json.loads(content[i])[j]['text'])\n",
    "            answers.append(json.loads(content[i])[j+1]['text'])"
   ]
  },
  {
   "cell_type": "code",
   "execution_count": 7,
   "metadata": {},
   "outputs": [
    {
     "data": {
      "text/plain": [
       "['Ничего себе, круто',\n",
       " 'Ничего себе',\n",
       " 'Я влюбился.',\n",
       " 'У тебя есть несколько минут, чтобы поговорить?',\n",
       " 'Благодарю.']"
      ]
     },
     "execution_count": 7,
     "metadata": {},
     "output_type": "execute_result"
    }
   ],
   "source": [
    "questions[100:105]"
   ]
  },
  {
   "cell_type": "code",
   "execution_count": 8,
   "metadata": {},
   "outputs": [
    {
     "data": {
      "text/plain": [
       "['Ха-ха, да, это так!',\n",
       " 'Ха-ха, да, это так!',\n",
       " 'Отлично! Поздравляю.',\n",
       " 'Конечно, я всегда здесь для тебя.',\n",
       " 'Не за что.']"
      ]
     },
     "execution_count": 8,
     "metadata": {},
     "output_type": "execute_result"
    }
   ],
   "source": [
    "answers[100:105]"
   ]
  },
  {
   "cell_type": "code",
   "execution_count": 9,
   "metadata": {},
   "outputs": [],
   "source": [
    "questions_processed = []\n",
    "answers_processed = []\n",
    "for i in range(len(answers)):\n",
    "    # text_to_word_sequence deletes all symbols from the '!\"#$%&()*+,-./:;<=>?@[\\\\]^_`{|}~\\t\\n'\n",
    "    # and then return individual words from sentencs. After that we join them with spaces\n",
    "    q = \" \".join([w if not w.isdigit() and not bool(re.search(r'[a-zA-Z]', w))\n",
    "                  else \"<num>\" for w in text_to_word_sequence(questions[i])])\n",
    "    a = \" \".join([w if not w.isdigit() and not bool(re.search(r'[a-zA-Z]', w))\n",
    "                  else \"<num>\" for w in text_to_word_sequence(answers[i])])\n",
    "    # append to the dataset\n",
    "    questions_processed.append(q)\n",
    "    answers_processed.append(a)\n",
    "questions_processed = np.array(questions_processed)\n",
    "answers_processed = np.array(answers_processed)"
   ]
  },
  {
   "cell_type": "code",
   "execution_count": 10,
   "metadata": {},
   "outputs": [],
   "source": [
    "idxs_train, idxs_valid = train_test_split(np.arange(len(questions_processed)), \n",
    "                                          random_state=21, test_size=0.1)"
   ]
  },
  {
   "cell_type": "code",
   "execution_count": 11,
   "metadata": {},
   "outputs": [
    {
     "data": {
      "text/plain": [
       "0"
      ]
     },
     "execution_count": 11,
     "metadata": {},
     "output_type": "execute_result"
    }
   ],
   "source": [
    "len(questions_processed)-len(answers_processed)"
   ]
  },
  {
   "cell_type": "code",
   "execution_count": 12,
   "metadata": {},
   "outputs": [
    {
     "data": {
      "text/plain": [
       "array(['ничего себе круто', 'ничего себе', 'я влюбился',\n",
       "       'у тебя есть несколько минут чтобы поговорить', 'благодарю'],\n",
       "      dtype='<U138')"
      ]
     },
     "execution_count": 12,
     "metadata": {},
     "output_type": "execute_result"
    }
   ],
   "source": [
    "questions_processed[100:105]"
   ]
  },
  {
   "cell_type": "code",
   "execution_count": 13,
   "metadata": {},
   "outputs": [
    {
     "data": {
      "text/plain": [
       "array(['ха ха да это так', 'ха ха да это так', 'отлично поздравляю',\n",
       "       'конечно я всегда здесь для тебя', 'не за что'], dtype='<U378')"
      ]
     },
     "execution_count": 13,
     "metadata": {},
     "output_type": "execute_result"
    }
   ],
   "source": [
    "answers_processed[100:105]"
   ]
  },
  {
   "cell_type": "code",
   "execution_count": 14,
   "metadata": {},
   "outputs": [],
   "source": [
    "tk = Tokenizer(filters=\"\")"
   ]
  },
  {
   "cell_type": "code",
   "execution_count": 15,
   "metadata": {},
   "outputs": [],
   "source": [
    "tk.fit_on_texts(np.append(questions_processed[idxs_train], answers_processed[idxs_train]))"
   ]
  },
  {
   "cell_type": "code",
   "execution_count": 16,
   "metadata": {},
   "outputs": [
    {
     "name": "stdout",
     "output_type": "stream",
     "text": [
      "Number of words in the vocabulary = 17491\n"
     ]
    }
   ],
   "source": [
    "number_of_words = len(tk.word_counts)\n",
    "print(\"Number of words in the vocabulary = {:d}\".format(number_of_words))"
   ]
  },
  {
   "cell_type": "code",
   "execution_count": 17,
   "metadata": {},
   "outputs": [
    {
     "data": {
      "text/plain": [
       "[('я', 6204),\n",
       " ('не', 6050),\n",
       " ('ты', 5527),\n",
       " ('а', 2861),\n",
       " ('что', 2832),\n",
       " ('и', 2534),\n",
       " ('<num>', 2381),\n",
       " ('в', 2163),\n",
       " ('это', 2058),\n",
       " ('мне', 1762)]"
      ]
     },
     "execution_count": 17,
     "metadata": {},
     "output_type": "execute_result"
    }
   ],
   "source": [
    "Counter(tk.word_counts).most_common(10)"
   ]
  },
  {
   "cell_type": "code",
   "execution_count": 18,
   "metadata": {},
   "outputs": [],
   "source": [
    "questions_tokenized = tk.texts_to_sequences(questions_processed)\n",
    "answers_tokenized = tk.texts_to_sequences(answers_processed)"
   ]
  },
  {
   "cell_type": "code",
   "execution_count": 19,
   "metadata": {},
   "outputs": [
    {
     "data": {
      "text/plain": [
       "[[53, 146, 304], [53, 146], [1, 4410], [13, 12, 32, 1341, 480, 98, 240], [797]]"
      ]
     },
     "execution_count": 19,
     "metadata": {},
     "output_type": "execute_result"
    }
   ],
   "source": [
    "questions_tokenized[100:105]"
   ]
  },
  {
   "cell_type": "code",
   "execution_count": 20,
   "metadata": {},
   "outputs": [],
   "source": [
    "question_lenghts = np.array(list(map(lambda x: len(x), questions_tokenized)))\n",
    "answer_lenghts = np.array(list(map(lambda x: len(x), answers_tokenized)))"
   ]
  },
  {
   "cell_type": "code",
   "execution_count": 21,
   "metadata": {},
   "outputs": [
    {
     "data": {
      "image/png": "[encoded data removed]",
      "text/plain": [
       "<Figure size 1440x576 with 2 Axes>"
      ]
     },
     "metadata": {},
     "output_type": "display_data"
    }
   ],
   "source": [
    "plt.figure(figsize=(20, 8))\n",
    "\n",
    "plt.subplot(121)\n",
    "plt.bar(*np.unique(question_lenghts, return_counts=True), edgecolor=\"k\")\n",
    "plt.axvline(np.mean(question_lenghts), \n",
    "            c=\"r\", lw=3, \n",
    "            label=\"Mean length = {:.2f}\".format(np.mean(question_lenghts)))\n",
    "plt.axvline(np.percentile(question_lenghts, 99), \n",
    "            c=\"m\", lw=3, \n",
    "            label=\"99%-percentile = {:.2f}\".format(np.percentile(question_lenghts, 99)))\n",
    "plt.xlabel(\"Length\")\n",
    "plt.ylabel(\"Number of questions\")\n",
    "plt.title(\"Distribution of question lengths\")\n",
    "plt.legend()\n",
    "\n",
    "plt.subplot(122)\n",
    "plt.bar(*np.unique(answer_lenghts, return_counts=True), edgecolor=\"k\")\n",
    "plt.axvline(np.mean(answer_lenghts), \n",
    "            c=\"r\", lw=3, \n",
    "            label=\"Mean = {:.2f}\".format(np.mean(answer_lenghts)))\n",
    "plt.axvline(np.percentile(answer_lenghts, 99), \n",
    "            c=\"m\", lw=3, \n",
    "            label=\"99%-percentile = {:.2f}\".format(np.percentile(answer_lenghts, 99)))\n",
    "plt.xlabel(\"Length\")\n",
    "plt.ylabel(\"Number of answers\")\n",
    "plt.title(\"Distribution of answer lengths\")\n",
    "plt.legend();"
   ]
  },
  {
   "cell_type": "code",
   "execution_count": 22,
   "metadata": {},
   "outputs": [],
   "source": [
    "cut_length = 7"
   ]
  },
  {
   "cell_type": "code",
   "execution_count": 52,
   "metadata": {},
   "outputs": [],
   "source": [
    "questions_padded = pad_sequences(questions_tokenized, maxlen=cut_length)\n",
    "answers_padded = pad_sequences(answers_tokenized, maxlen=cut_length)"
   ]
  },
  {
   "cell_type": "code",
   "execution_count": 53,
   "metadata": {},
   "outputs": [],
   "source": [
    "q_train, q_valid = questions_padded[idxs_train], questions_padded[idxs_valid]\n",
    "a_train, a_valid = answers_padded[idxs_train], answers_padded[idxs_valid]"
   ]
  },
  {
   "cell_type": "code",
   "execution_count": 54,
   "metadata": {},
   "outputs": [
    {
     "name": "stdout",
     "output_type": "stream",
     "text": [
      "Number of train pairs = 22869\n",
      "Number of valid pairs = 2541\n"
     ]
    }
   ],
   "source": [
    "print(\"Number of train pairs = {:d}\".format(len(q_train)))\n",
    "print(\"Number of valid pairs = {:d}\".format(len(q_valid)))"
   ]
  },
  {
   "cell_type": "code",
   "execution_count": 55,
   "metadata": {},
   "outputs": [],
   "source": [
    "q_input = Input(shape=(cut_length,), \n",
    "                dtype=\"int32\", \n",
    "                name=\"QInput\")\n",
    "a_input = Input(shape=(cut_length,), \n",
    "                dtype=\"int32\", \n",
    "                name=\"AInput\")"
   ]
  },
  {
   "cell_type": "code",
   "execution_count": 56,
   "metadata": {},
   "outputs": [],
   "source": [
    "_embedding_layer = Embedding(input_dim=number_of_words + 1,\n",
    "                             output_dim=100,\n",
    "                             input_length=cut_length,\n",
    "                             trainable=True,\n",
    "                             mask_zero=True, \n",
    "                             name=\"Embedding\")"
   ]
  },
  {
   "cell_type": "code",
   "execution_count": 57,
   "metadata": {},
   "outputs": [],
   "source": [
    "q_embeddeding = _embedding_layer(q_input)\n",
    "a_embeddeding = _embedding_layer(a_input)"
   ]
  },
  {
   "cell_type": "code",
   "execution_count": 58,
   "metadata": {},
   "outputs": [],
   "source": [
    "q_rnn = LSTM(32, return_sequences=True, name=\"QLSTM\")(q_embeddeding)\n",
    "a_rnn = LSTM(32, return_sequences=True, name=\"ALSTM\")(a_embeddeding)"
   ]
  },
  {
   "cell_type": "code",
   "execution_count": 59,
   "metadata": {},
   "outputs": [],
   "source": [
    "class MaskedGlobalAveragePooling1D(_GlobalPooling1D):\n",
    "    \n",
    "    def __init__(self, **kwargs):\n",
    "        self.support_mask = True\n",
    "        super(MaskedGlobalAveragePooling1D, self).__init__(**kwargs)\n",
    "        \n",
    "    def build(self, input_shape):\n",
    "        super(MaskedGlobalAveragePooling1D, self).build(input_shape)\n",
    "        self.feat_dim = input_shape[2]\n",
    "\n",
    "    def call(self, x, mask=None):\n",
    "        if mask is not None:\n",
    "            mask = K.cast(mask, 'float32')\n",
    "            n = K.sum(mask, axis=-1, keepdims=True)\n",
    "            n += K.ones_like(n) * K.cast(K.equal(n, 0.0), 'float32')\n",
    "            ans = K.sum(x, axis=1) / n\n",
    "        else:\n",
    "            ans = K.mean(x, axis=1)\n",
    "        \n",
    "        return ans\n",
    "\n",
    "    def compute_mask(self, input_shape, input_mask=None):\n",
    "        return None"
   ]
  },
  {
   "cell_type": "code",
   "execution_count": 60,
   "metadata": {},
   "outputs": [],
   "source": [
    "class MaskedGlobalMaxPooling1D(_GlobalPooling1D):\n",
    "    \n",
    "    def __init__(self, **kwargs):\n",
    "        self.support_mask = True\n",
    "        super(MaskedGlobalMaxPooling1D, self).__init__(**kwargs)\n",
    "        \n",
    "    def build(self, input_shape):\n",
    "        super(MaskedGlobalMaxPooling1D, self).build(input_shape)\n",
    "        self.feat_dim = input_shape[2]\n",
    "\n",
    "    def call(self, x, mask=None):\n",
    "        ans = K.max(x, axis=1)\n",
    "        return ans\n",
    "\n",
    "    def compute_mask(self, input_shape, input_mask=None):\n",
    "        return None"
   ]
  },
  {
   "cell_type": "code",
   "execution_count": 61,
   "metadata": {},
   "outputs": [],
   "source": [
    "q_max = MaskedGlobalMaxPooling1D(name=\"QGMP\")(q_rnn)\n",
    "a_max = MaskedGlobalMaxPooling1D(name=\"AGMP\")(a_rnn)"
   ]
  },
  {
   "cell_type": "code",
   "execution_count": 62,
   "metadata": {},
   "outputs": [],
   "source": [
    "def L2_norm(x):\n",
    "    return K.l2_normalize(x, axis=1)"
   ]
  },
  {
   "cell_type": "code",
   "execution_count": 63,
   "metadata": {},
   "outputs": [],
   "source": [
    "q_normalized = Lambda(function=L2_norm, name=\"QL2norm\")(q_max)\n",
    "a_normalized = Lambda(function=L2_norm, name=\"AL2norm\")(a_max)"
   ]
  },
  {
   "cell_type": "code",
   "execution_count": 64,
   "metadata": {},
   "outputs": [],
   "source": [
    "def triplet_loss(args):\n",
    "    \n",
    "    q, a = args\n",
    "    \n",
    "    def _get_probs():\n",
    "        # easy negative sampling, i.e. take random from batch\n",
    "        batch_size = tf.shape(a)[0]\n",
    "        probs = tf.ones((batch_size, batch_size)) - tf.eye(batch_size, batch_size)\n",
    "        return probs\n",
    "    \n",
    "    def _get_distance(batch1, batch2):\n",
    "        return 1 - tf.reduce_sum(tf.multiply(batch1, batch2), axis=1)\n",
    "    \n",
    "    # margin\n",
    "    alpha = 0.2\n",
    "    \n",
    "    # negative sampling\n",
    "    probs = _get_probs()\n",
    "    probs /= tf.reduce_sum(probs, axis=1)\n",
    "    \n",
    "    negative_idxs = tf.multinomial(tf.log(probs), 1)\n",
    "    negs = tf.gather(a, negative_idxs)[:, 0]\n",
    "    \n",
    "    # distance calculation\n",
    "    Dn = _get_distance(q, negs)\n",
    "    Dp = _get_distance(q, a)\n",
    "    \n",
    "    # loss\n",
    "    loss = tf.reduce_mean(tf.maximum(0.0, Dp - Dn + alpha))\n",
    "    \n",
    "    return loss"
   ]
  },
  {
   "cell_type": "code",
   "execution_count": 65,
   "metadata": {},
   "outputs": [],
   "source": [
    "loss_layer = Lambda(function=triplet_loss, name=\"Loss\")([q_normalized, a_normalized])"
   ]
  },
  {
   "cell_type": "code",
   "execution_count": 66,
   "metadata": {},
   "outputs": [],
   "source": [
    "model = Model(inputs=[q_input, a_input], outputs=[loss_layer])"
   ]
  },
  {
   "cell_type": "code",
   "execution_count": 67,
   "metadata": {},
   "outputs": [],
   "source": [
    "def dummy_loss(y_true, y_pred):\n",
    "    return y_pred"
   ]
  },
  {
   "cell_type": "code",
   "execution_count": 68,
   "metadata": {},
   "outputs": [],
   "source": [
    "model.compile(loss=dummy_loss, optimizer=\"Adam\")"
   ]
  },
  {
   "cell_type": "code",
   "execution_count": 69,
   "metadata": {},
   "outputs": [
    {
     "name": "stdout",
     "output_type": "stream",
     "text": [
      "__________________________________________________________________________________________________\n",
      "Layer (type)                    Output Shape         Param #     Connected to                     \n",
      "==================================================================================================\n",
      "QInput (InputLayer)             (None, 7)            0                                            \n",
      "__________________________________________________________________________________________________\n",
      "AInput (InputLayer)             (None, 7)            0                                            \n",
      "__________________________________________________________________________________________________\n",
      "Embedding (Embedding)           (None, 7, 100)       1749200     QInput[0][0]                     \n",
      "                                                                 AInput[0][0]                     \n",
      "__________________________________________________________________________________________________\n",
      "QLSTM (LSTM)                    (None, 7, 32)        17024       Embedding[0][0]                  \n",
      "__________________________________________________________________________________________________\n",
      "ALSTM (LSTM)                    (None, 7, 32)        17024       Embedding[1][0]                  \n",
      "__________________________________________________________________________________________________\n",
      "QGMP (MaskedGlobalMaxPooling1D) (None, 32)           0           QLSTM[0][0]                      \n",
      "__________________________________________________________________________________________________\n",
      "AGMP (MaskedGlobalMaxPooling1D) (None, 32)           0           ALSTM[0][0]                      \n",
      "__________________________________________________________________________________________________\n",
      "QL2norm (Lambda)                (None, 32)           0           QGMP[0][0]                       \n",
      "__________________________________________________________________________________________________\n",
      "AL2norm (Lambda)                (None, 32)           0           AGMP[0][0]                       \n",
      "__________________________________________________________________________________________________\n",
      "Loss (Lambda)                   ()                   0           QL2norm[0][0]                    \n",
      "                                                                 AL2norm[0][0]                    \n",
      "==================================================================================================\n",
      "Total params: 1,783,248\n",
      "Trainable params: 1,783,248\n",
      "Non-trainable params: 0\n",
      "__________________________________________________________________________________________________\n"
     ]
    }
   ],
   "source": [
    "model.summary()"
   ]
  },
  {
   "cell_type": "code",
   "execution_count": 70,
   "metadata": {},
   "outputs": [
    {
     "name": "stderr",
     "output_type": "stream",
     "text": [
      "/home/alex/miniconda3/lib/python3.6/site-packages/tensorflow/python/ops/gradients_impl.py:98: UserWarning: Converting sparse IndexedSlices to a dense Tensor of unknown shape. This may consume a large amount of memory.\n",
      "  \"Converting sparse IndexedSlices to a dense Tensor of unknown shape. \"\n"
     ]
    },
    {
     "name": "stdout",
     "output_type": "stream",
     "text": [
      "Train on 22869 samples, validate on 2541 samples\n",
      "Epoch 1/10\n",
      "22869/22869 [==============================] - 12s 540us/step - loss: 0.1740 - val_loss: 0.1525\n",
      "Epoch 2/10\n",
      "22869/22869 [==============================] - 11s 483us/step - loss: 0.0911 - val_loss: 0.1343\n",
      "Epoch 3/10\n",
      "22869/22869 [==============================] - 11s 476us/step - loss: 0.0646 - val_loss: 0.1332\n",
      "Epoch 4/10\n",
      "22869/22869 [==============================] - 11s 465us/step - loss: 0.0512 - val_loss: 0.1210\n",
      "Epoch 5/10\n",
      "22869/22869 [==============================] - 13s 567us/step - loss: 0.0435 - val_loss: 0.1280\n",
      "Epoch 6/10\n",
      "22869/22869 [==============================] - 12s 513us/step - loss: 0.0387 - val_loss: 0.1262\n",
      "Epoch 7/10\n",
      "22869/22869 [==============================] - 11s 499us/step - loss: 0.0342 - val_loss: 0.1180\n",
      "Epoch 8/10\n",
      "22869/22869 [==============================] - 11s 463us/step - loss: 0.0330 - val_loss: 0.1186\n",
      "Epoch 9/10\n",
      "22869/22869 [==============================] - 11s 470us/step - loss: 0.0299 - val_loss: 0.1152\n",
      "Epoch 10/10\n",
      "22869/22869 [==============================] - 11s 491us/step - loss: 0.0282 - val_loss: 0.1213\n"
     ]
    }
   ],
   "source": [
    "hist = model.fit([q_train, a_train], np.zeros(q_train.shape[0]), \n",
    "                 validation_data=([q_valid, a_valid], np.zeros(q_valid.shape[0])), \n",
    "                 epochs=10, batch_size=128)"
   ]
  },
  {
   "cell_type": "code",
   "execution_count": 71,
   "metadata": {},
   "outputs": [],
   "source": [
    "model.save(\"../bin/rnn_pstu.model\")\n",
    "#pickle.dump(hist.history, open(\"./rnn_pstu.hist\", \"wb\"))"
   ]
  },
  {
   "cell_type": "code",
   "execution_count": 72,
   "metadata": {},
   "outputs": [
    {
     "name": "stderr",
     "output_type": "stream",
     "text": [
      "/home/alex/miniconda3/lib/python3.6/site-packages/tensorflow/python/ops/gradients_impl.py:98: UserWarning: Converting sparse IndexedSlices to a dense Tensor of unknown shape. This may consume a large amount of memory.\n",
      "  \"Converting sparse IndexedSlices to a dense Tensor of unknown shape. \"\n"
     ]
    }
   ],
   "source": [
    "model = load_model(\"../bin/rnn_pstu.model\", custom_objects={\"MaskedGlobalMaxPooling1D\": MaskedGlobalMaxPooling1D, \n",
    "                                                  \"tf\": tf, \n",
    "                                                  \"dummy_loss\": dummy_loss})\n",
    "#hist = pickle.load(open(\"./rnn_pstu.hist\", \"rb\"))"
   ]
  },
  {
   "cell_type": "code",
   "execution_count": 73,
   "metadata": {},
   "outputs": [],
   "source": [
    "q_model = Model(inputs=[model.get_layer(\"QInput\").input], \n",
    "                outputs=[model.get_layer(\"QL2norm\").output])\n",
    "a_model = Model(inputs=[model.get_layer(\"AInput\").input], \n",
    "                outputs=[model.get_layer(\"AL2norm\").output])"
   ]
  },
  {
   "cell_type": "code",
   "execution_count": 74,
   "metadata": {},
   "outputs": [],
   "source": [
    "class QAReplier(object):\n",
    "    \n",
    "    def __init__(self, tokenizer, q_model, a_model, **kwargs):\n",
    "        \"\"\"\n",
    "        Constructor\n",
    "        \n",
    "        Args:\n",
    "            tokenizer(keras.Tokenizer): fitted instance of Keras tokenizer class\n",
    "            q_model(keras.Model):       question encoding tower of DSSM in the form of Keras model\n",
    "            a_model(keras.Model):       answer encoding tower of DSSM in the form of Keras model\n",
    "        \n",
    "        Return:\n",
    "            self\n",
    "        \"\"\"\n",
    "        \n",
    "        # call the ancestor constructor\n",
    "        super(QAReplier, self).__init__(**kwargs)\n",
    "        # assign passed parameters to the class fields\n",
    "        self._tk = tokenizer\n",
    "        self._q_model = q_model\n",
    "        self._a_model = a_model\n",
    "        \n",
    "    def _preprocess(self, bank):\n",
    "        \"\"\"\n",
    "        Preprocess the corpus of sentences into the suitable format\n",
    "        to feed into the tower.\n",
    "        \n",
    "        Args:\n",
    "            bank(np.ndarray): array of sentences to preprocess\n",
    "            \n",
    "        Return:\n",
    "            bank_padded(np.ndarray): preprocessed and tokenized sentences\n",
    "        \"\"\"\n",
    "        \n",
    "        bank_processed = []\n",
    "        # iterate over the corpus\n",
    "        for i in range(len(bank)):\n",
    "            # filter out specific symbols, punctuations, \n",
    "            # transform numbers into special <num> token, put everything to lower case\n",
    "            q = \" \".join([w if not w.isdigit() and not bool(re.search(r'[a-zA-Z]', w))\n",
    "                          else \"<num>\" for w in text_to_word_sequence(bank[i])])\n",
    "            bank_processed.append(q)\n",
    "        bank_processed = np.array(bank_processed)\n",
    "        \n",
    "        # transform filtered sentences into sequences of tokens\n",
    "        bank_tokenized = self._tk.texts_to_sequences(bank_processed)\n",
    "        \n",
    "        # pad sequences to the desired length (taken from the model input dimensions)\n",
    "        bank_padded = pad_sequences(bank_tokenized, maxlen=self._q_model.layers[0].input_shape[1])\n",
    "        \n",
    "        return bank_padded\n",
    "        \n",
    "    def fit(self, answers_bank):\n",
    "        \"\"\"\n",
    "        Fit the replier model to the predefined set of answers.\n",
    "        All other answers will be chosen from the passed array.\n",
    "        \n",
    "        Args:\n",
    "            answers_bank(np.ndarray): array of sentences from which \n",
    "                                      the model can answer\n",
    "\n",
    "        Return:\n",
    "            self\n",
    "        \"\"\"\n",
    "        \n",
    "        self._answers_bank = answers_bank\n",
    "        # preprocess and then encode answers with the answer tower of DSMM\n",
    "        _answers_bank_encoded = self._a_model.predict(self._preprocess(self._answers_bank))\n",
    "        \n",
    "        # nearest neighbors model to find the most suitable answer\n",
    "        self._replier = NearestNeighbors(n_neighbors=5, \n",
    "                                         metric=\"minkowski\", \n",
    "                                         p=2, \n",
    "                                         n_jobs=-1, \n",
    "                                         algorithm=\"kd_tree\")\n",
    "        # fir nearest neighbors model on the encoded set of answers\n",
    "        self._replier.fit(_answers_bank_encoded)\n",
    "        \n",
    "        return self\n",
    "    \n",
    "    def answer(self, questions, n_answers=5):\n",
    "        \"\"\"\n",
    "        Provide an answer to the given questions.\n",
    "        \n",
    "        Args:\n",
    "            questions(str, list, np.ndarray): questions to the model\n",
    "            n_answers(int):                   number of top answers to return\n",
    "            \n",
    "        Return:\n",
    "            answers(np.ndarray): array of answers to the given questions\n",
    "        \"\"\"\n",
    "        \n",
    "        if type(questions) == str:\n",
    "            questions = np.array([questions])\n",
    "        elif type(questions) == list:\n",
    "            questions = np.array(questions)\n",
    "        elif type(questions) == np.ndarray:\n",
    "            pass\n",
    "        else:\n",
    "            raise ValueError(\"Wrong format of question\")\n",
    "            \n",
    "        questions = self._preprocess(questions)\n",
    "            \n",
    "        questions_encoded = self._q_model.predict(questions)\n",
    "        \n",
    "        res = self._replier.kneighbors(questions_encoded, n_neighbors=n_answers)[1]\n",
    "        \n",
    "        return self._answers_bank[res[0][0]],self._answers_bank[res[0][1]],self._answers_bank[res[0][2]]"
   ]
  },
  {
   "cell_type": "code",
   "execution_count": 75,
   "metadata": {},
   "outputs": [],
   "source": [
    "replier = QAReplier(tk, q_model, a_model)"
   ]
  },
  {
   "cell_type": "code",
   "execution_count": 76,
   "metadata": {},
   "outputs": [
    {
     "name": "stdout",
     "output_type": "stream",
     "text": [
      "CPU times: user 6.05 s, sys: 360 ms, total: 6.41 s\n",
      "Wall time: 3.44 s\n"
     ]
    },
    {
     "data": {
      "text/plain": [
       "<__main__.QAReplier at 0x7f195a95f240>"
      ]
     },
     "execution_count": 76,
     "metadata": {},
     "output_type": "execute_result"
    }
   ],
   "source": [
    "%%time\n",
    "replier.fit(answers)"
   ]
  },
  {
   "cell_type": "code",
   "execution_count": 86,
   "metadata": {},
   "outputs": [
    {
     "data": {
      "text/plain": [
       "('Я такого не говорил.', 'Ты читать не умеешь?', 'Ничего я не думал.')"
      ]
     },
     "execution_count": 86,
     "metadata": {},
     "output_type": "execute_result"
    }
   ],
   "source": [
    "replier.answer(\"ты робот?\")"
   ]
  },
  {
   "cell_type": "code",
   "execution_count": null,
   "metadata": {},
   "outputs": [],
   "source": []
  }
 ],
 "metadata": {
  "kernelspec": {
   "display_name": "Python 3",
   "language": "python",
   "name": "python3"
  },
  "language_info": {
   "codemirror_mode": {
    "name": "ipython",
    "version": 3
   },
   "file_extension": ".py",
   "mimetype": "text/x-python",
   "name": "python",
   "nbconvert_exporter": "python",
   "pygments_lexer": "ipython3",
   "version": "3.6.4"
  }
 },
 "nbformat": 4,
 "nbformat_minor": 2
}
